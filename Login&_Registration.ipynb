{
  "nbformat": 4,
  "nbformat_minor": 0,
  "metadata": {
    "colab": {
      "name": "Login& Registration.ipynb",
      "provenance": [],
      "collapsed_sections": [],
      "authorship_tag": "ABX9TyPeljQGAFcY0SmrWCJ1m7KO",
      "include_colab_link": true
    },
    "kernelspec": {
      "name": "python3",
      "display_name": "Python 3"
    },
    "language_info": {
      "name": "python"
    }
  },
  "cells": [
    {
      "cell_type": "markdown",
      "metadata": {
        "id": "view-in-github",
        "colab_type": "text"
      },
      "source": [
        "<a href=\"https://colab.research.google.com/github/tonmoy86/Login-Register-Python/blob/main/Login%26_Registration.ipynb\" target=\"_parent\"><img src=\"https://colab.research.google.com/assets/colab-badge.svg\" alt=\"Open In Colab\"/></a>"
      ]
    },
    {
      "cell_type": "markdown",
      "source": [
        "Mail and Password Validation"
      ],
      "metadata": {
        "id": "22xlG8F5ZVH2"
      }
    },
    {
      "cell_type": "code",
      "source": [
        "\n",
        "def email_validity(mail):\n",
        "  #to check if its valid\n",
        "  valid_mail=\"^[a-z]+@[a-z]+\\.[com|in]+\"\n",
        "  if re.search(valid_mail,mail):\n",
        "    return True\n",
        "  else:\n",
        "    print(\"Not a Valid mail id\")\n",
        "    return False\n",
        "    \n",
        "\n",
        "\n",
        "def password_validity(pwd):\n",
        "  pattern=re.compile(r'')\n",
        "  if len(pwd)<6 or len(pwd)>16:\n",
        "    print(\"Password length should be between 6 & 16\")\n",
        "  elif re.search(r'[!@#$%&]',pwd) is None:\n",
        "    print(\"Password should contain atleast one Special Character\")\n",
        "  elif re.search(r'[0-9]',pwd) is None:\n",
        "    print(\"Password should contain atleast one digit\")\n",
        "  elif re.search(r'[A-Z]',pwd) is None:\n",
        "    print(\"Password must have atleast one Uppercase letter\")\n",
        "  elif re.search(r'[a-z]',pwd) is None:\n",
        "    print(\"Password must contain atleast One Lowercase\")\n",
        "  elif re.match(r'[a-z A-Z 0-9 !@#$%&]{6,15}',pwd):\n",
        "    #print(\"Password is Valid\")\n",
        "    return True\n",
        "  else:\n",
        "    print(\"Password Error\")\n",
        "    return False\n",
        "\n",
        "\n",
        "def mail_input():\n",
        "  mail=input(\"Enter the mail id:\")\n",
        "  mail_obj=email_validity(mail)\n",
        "  \n",
        "  while (mail_obj!=True):\n",
        "    mail=input(\"Enter the mail id:\")\n",
        "    mail_obj=email_validity(mail)\n",
        "  return mail\n",
        "  \n",
        "    \n",
        "  \n",
        "\n",
        "def pwd_input():\n",
        "  pwd=input(\"Enter the password:\")\n",
        "  return pwd\n",
        "\n",
        "\n",
        "def forgot_pwd(df):\n",
        "  mail=mail_input()\n",
        "  index=list(df.Email).index(mail)\n",
        "  org_pass=df.Password[index]\n",
        "  print(\"Your Password is : \",org_pass)\n",
        "\n",
        "\n",
        "def signup(df):\n",
        "  mail=mail_input()\n",
        "  \n",
        "  if mail in df.Email.values:\n",
        "    print(\"Your mail is already registered try login\")\n",
        "    login(df)\n",
        "    \n",
        "  else:\n",
        "    pwd_obj=False\n",
        "    while pwd_obj!=True:\n",
        "      pwd=pwd_input()  \n",
        "      pwd_obj=password_validity(pwd)\n",
        "    \n",
        "    if pwd_obj==True:\n",
        "      df_2_add=pd.DataFrame({\"Email\":[mail],\"Password\":[pwd]})\n",
        "      df=df_2_add.to_csv('/content/Users_csv.csv', mode='a', index=False, header=False)\n",
        "      print(\"You are Registered\")\n",
        "\n",
        "    \n",
        "def login(df):\n",
        "  mail=mail_input()\n",
        "  \n",
        "\n",
        "  if mail not in df.Email.values:\n",
        "    print(\"Not Registered, Try Signup new\")\n",
        "    signup(df)\n",
        "  elif mail in df.Email.values:\n",
        "    pwd=pwd_input()\n",
        "    index=list(df.Email).index(mail)\n",
        "    org_pass=df.Password[index]\n",
        "    while pwd!=org_pass:\n",
        "      print(\"Wrong Password Try Again\")\n",
        "      pwd=pwd_input()\n",
        "    print(\"Access Granted\")\n",
        "    \n",
        "      \n",
        "\n",
        "\n",
        "def mainn(df):\n",
        "  a=input(\"Enter 1 for Login   Enter 2 for Signup  Enter 3 for Forgot Password\")\n",
        "  if a=='1':\n",
        "    login(df)\n",
        "    return True\n",
        "  elif a=='2':\n",
        "    signup(df)\n",
        "    return True\n",
        "  elif a=='3':\n",
        "    forgot_pwd(df)\n",
        "    return True\n",
        "  else:\n",
        "    print(\"Give a Valid input\")\n",
        "    return False\n",
        "\n",
        "\n",
        "import pandas as pd\n",
        "import re\n",
        "\n",
        "df=pd.read_csv(\"/content/Users_csv.csv\")\n",
        "flag=mainn(df)\n",
        "while flag != True:\n",
        "  flag=mainn(df)"
      ],
      "metadata": {
        "id": "zl1L-H6OlVGK",
        "colab": {
          "base_uri": "https://localhost:8080/"
        },
        "outputId": "4144ba4e-2f51-491d-e790-8fd0f7f66b4e"
      },
      "execution_count": null,
      "outputs": [
        {
          "output_type": "stream",
          "name": "stdout",
          "text": [
            "Enter 1 for Login   Enter 2 for Signup  Enter 3 for Forgot Password1\n",
            "Enter the mail id:tonmoy@gmail.com\n",
            "Enter the password:Ton@12345\n",
            "Access Granted\n"
          ]
        }
      ]
    },
    {
      "cell_type": "code",
      "source": [
        ""
      ],
      "metadata": {
        "id": "sqTQ_s6KfZxd"
      },
      "execution_count": null,
      "outputs": []
    }
  ]
}